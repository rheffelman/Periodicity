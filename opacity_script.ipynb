{
 "cells": [
  {
   "cell_type": "code",
   "execution_count": 9,
   "id": "92ebe3e1",
   "metadata": {},
   "outputs": [],
   "source": [
    "from PIL import Image\n",
    "\n",
    "im = Image.open('./src/assets/sprites/warlock_char.png').convert('RGBA')\n",
    "\n",
    "# Get all pixels as a list of tuples (R, G, B, A)\n",
    "pixels = list(im.getdata())\n",
    "\n",
    "# For each pixel: if alpha is not zero, set to 255, otherwise keep as-is\n",
    "new_pixels = [\n",
    "    (r, g, b, 255) if a != 0 else (r, g, b, 0)\n",
    "    for (r, g, b, a) in pixels\n",
    "]\n",
    "\n",
    "im.putdata(new_pixels)\n",
    "\n",
    "# Save the result (you can overwrite or use a new file)\n",
    "im.save('./src/assets/sprites/output.png')\n"
   ]
  },
  {
   "cell_type": "code",
   "execution_count": 10,
   "id": "c3c48c36",
   "metadata": {},
   "outputs": [],
   "source": [
    "import math\n",
    "\n",
    "\n",
    "\n",
    "def color_distance(c1, c2):\n",
    "    # Euclidean distance in RGB space\n",
    "    return math.sqrt(sum((a - b) ** 2 for a, b in zip(c1, c2)))\n",
    "\n",
    "# Parameters\n",
    "target_color = (44, 39, 53)      # #2c2735\n",
    "replacement_color = (12, 5, 12)  # #0c050c\n",
    "threshold = 35                   # Adjust this for more/less strictness\n",
    "\n",
    "# Load image\n",
    "im = Image.open('./src/assets/sprites/output.png').convert('RGBA')\n",
    "pixels = list(im.getdata())\n",
    "\n",
    "new_pixels = []\n",
    "for r, g, b, a in pixels:\n",
    "    if color_distance((r, g, b), target_color) <= threshold:\n",
    "        new_pixels.append((*replacement_color, a))\n",
    "    else:\n",
    "        new_pixels.append((r, g, b, a))\n",
    "\n",
    "im.putdata(new_pixels)\n",
    "im.save('./src/assets/sprites/output2.png')"
   ]
  },
  {
   "cell_type": "code",
   "execution_count": null,
   "id": "a56ac6d4",
   "metadata": {},
   "outputs": [
    {
     "name": "stdout",
     "output_type": "stream",
     "text": [
      "123\n"
     ]
    },
    {
     "name": "stderr",
     "output_type": "stream",
     "text": [
      "C:\\Users\\noddl\\AppData\\Local\\Temp\\ipykernel_292344\\421353862.py:5: RuntimeWarning: overflow encountered in scalar add\n",
      "  print(x + (u32 + 1))\n"
     ]
    }
   ],
   "source": [
    "import numpy as np\n",
    "\n",
    "x = np.uint32(0xFFFFFFFF)\n",
    "u32 = np.uint32(123)\n",
    "\n",
    "print(x + (u32 + np.uint32(1)))"
   ]
  }
 ],
 "metadata": {
  "kernelspec": {
   "display_name": "Python 3",
   "language": "python",
   "name": "python3"
  },
  "language_info": {
   "codemirror_mode": {
    "name": "ipython",
    "version": 3
   },
   "file_extension": ".py",
   "mimetype": "text/x-python",
   "name": "python",
   "nbconvert_exporter": "python",
   "pygments_lexer": "ipython3",
   "version": "3.12.10"
  }
 },
 "nbformat": 4,
 "nbformat_minor": 5
}
